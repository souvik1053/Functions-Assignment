{
 "cells": [
  {
   "cell_type": "markdown",
   "id": "db50ee52-d20b-49a7-a465-e34b0a59f4d7",
   "metadata": {},
   "source": [
    "### Q1. Which keyword is used to create a function? Create a function to return a list of odd numbers in the range of 1 to 25."
   ]
  },
  {
   "cell_type": "markdown",
   "id": "4e09f785-cb57-4749-8c81-45a06fc70c41",
   "metadata": {},
   "source": [
    "def keyword is used to create function."
   ]
  },
  {
   "cell_type": "code",
   "execution_count": 12,
   "id": "8e4af802-0cf3-484b-8463-b189020d7629",
   "metadata": {},
   "outputs": [
    {
     "data": {
      "text/plain": [
       "[1, 3, 5, 7, 9, 11, 13, 15, 17, 19, 21, 23]"
      ]
     },
     "execution_count": 12,
     "metadata": {},
     "output_type": "execute_result"
    }
   ],
   "source": [
    "def test_odd():\n",
    "    n=[]\n",
    "    for i in range(1,25):\n",
    "        if i%2 != 0:\n",
    "            n.append(i)\n",
    "    return n\n",
    "test_odd()"
   ]
  },
  {
   "cell_type": "markdown",
   "id": "002bd1e7-6070-4df3-972d-2ba7efc408ee",
   "metadata": {},
   "source": [
    "### Q2. Why *args and **kwargs is used in some functions? Create a function each for *args and **kwargs to demonstrate their use."
   ]
  },
  {
   "cell_type": "markdown",
   "id": "1d6ab468-6c4b-4c2b-90d2-89ee6497fd1a",
   "metadata": {},
   "source": [
    "*args allows you to pass a variable number of non-keyword arguments to a function, while **kwargs enables you to pass a variable number of keyword arguments. *args collects the arguments into a tuple, while **kwargs collects the keyword arguments into a dictionary."
   ]
  },
  {
   "cell_type": "code",
   "execution_count": 14,
   "id": "4f8a48d4-89c4-4385-a2d8-130f7a47b219",
   "metadata": {},
   "outputs": [
    {
     "data": {
      "text/plain": [
       "('rick', 4, 6, 7, [3, 5, 6], (3, 5, 6, 'souvik'))"
      ]
     },
     "execution_count": 14,
     "metadata": {},
     "output_type": "execute_result"
    }
   ],
   "source": [
    "def test(*args):\n",
    "    return args\n",
    "\n",
    "test(\"rick\",4,6,7,[3,5,6],(3,5,6,\"souvik\"))"
   ]
  },
  {
   "cell_type": "code",
   "execution_count": 18,
   "id": "da941c78-e135-48c7-b2d2-ca1beb0cfe8f",
   "metadata": {},
   "outputs": [
    {
     "data": {
      "text/plain": [
       "{'B': 34, 'c': [4, 6, 7], 't': (3, 5, 7)}"
      ]
     },
     "execution_count": 18,
     "metadata": {},
     "output_type": "execute_result"
    }
   ],
   "source": [
    "def test1(**kwargs):\n",
    "    return kwargs\n",
    "\n",
    "test1(B = 34,c=[4,6,7],t=(3,5,7))"
   ]
  },
  {
   "cell_type": "code",
   "execution_count": null,
   "id": "16a9c489-bc5a-4fa0-aca3-5f19bfae8c29",
   "metadata": {},
   "outputs": [],
   "source": []
  },
  {
   "cell_type": "markdown",
   "id": "508871ba-6952-4a91-85b3-25e88dcb1889",
   "metadata": {},
   "source": [
    "### Q3. What is an iterator in python? Name the method used to initialise the iterator object and the method used for iteration. Use these methods to print the first five elements of the given list [2, 4, 6, 8, 10, 12, 14, 16, 18, 20]."
   ]
  },
  {
   "cell_type": "markdown",
   "id": "a9ef5679-63ec-4008-8fbf-977f1ff5984b",
   "metadata": {},
   "source": [
    " Iterators are methods that iterate collections like lists, tuples, etc. Using an iterator method, we can loop through an object and return its elements. The for loop in Python is used to iterate over a sequence of elements, such as a list, tuple, or string. When we use the for loop with an iterator, the loop will automatically iterate over the elements of the iterator until it is exhausted."
   ]
  },
  {
   "cell_type": "code",
   "execution_count": 20,
   "id": "b220c78d-005b-4822-ac31-c9d73f28d9a9",
   "metadata": {},
   "outputs": [
    {
     "data": {
      "text/plain": [
       "[2, 4, 6, 8, 10]"
      ]
     },
     "execution_count": 20,
     "metadata": {},
     "output_type": "execute_result"
    }
   ],
   "source": [
    "l1 =[2, 4, 6, 8, 10, 12, 14, 16, 18, 20]\n",
    "l1[0:5]"
   ]
  },
  {
   "cell_type": "code",
   "execution_count": null,
   "id": "e80e3038-b192-4be8-8d8a-fd25665c41af",
   "metadata": {},
   "outputs": [],
   "source": []
  },
  {
   "cell_type": "markdown",
   "id": "24802b0b-cde8-4ec0-ba98-2f3f6b5d8ef7",
   "metadata": {},
   "source": [
    "### Q4. What is a generator function in python? Why yield keyword is used? Give an example of a generator function."
   ]
  },
  {
   "cell_type": "markdown",
   "id": "51cd8663-9d44-41f1-9c0b-abd8177e5e19",
   "metadata": {},
   "source": [
    "A generator function in Python is a special type of function that returns a generator iterator, which can be used to iterate over a sequence of elements. A generator function is defined like a normal function, but instead of using the return statement to return a value, it uses the yield statement. The yield statement is used to produce a value, and the generator function can be resumed from where it left off the next time next() is called on the generator."
   ]
  },
  {
   "cell_type": "code",
   "execution_count": 28,
   "id": "0aca675b-802a-4786-b051-991774bcc0c0",
   "metadata": {},
   "outputs": [],
   "source": [
    "def test_fib(n):\n",
    "    a,b=0,1\n",
    "    for i in range(n):\n",
    "        yield a\n",
    "        a,b=b,b+a"
   ]
  },
  {
   "cell_type": "code",
   "execution_count": 29,
   "id": "5e85f593-246c-43ee-bbe1-a4e2e4d18061",
   "metadata": {},
   "outputs": [
    {
     "data": {
      "text/plain": [
       "<generator object test_fib at 0x7fe35654ad50>"
      ]
     },
     "execution_count": 29,
     "metadata": {},
     "output_type": "execute_result"
    }
   ],
   "source": [
    "test_fib(10)"
   ]
  },
  {
   "cell_type": "code",
   "execution_count": 30,
   "id": "d02f5504-0324-4cec-b1d9-d80dce738652",
   "metadata": {},
   "outputs": [
    {
     "name": "stdout",
     "output_type": "stream",
     "text": [
      "0\n",
      "1\n",
      "1\n",
      "2\n",
      "3\n",
      "5\n",
      "8\n",
      "13\n",
      "21\n",
      "34\n"
     ]
    }
   ],
   "source": [
    "for i in test_fib(10):\n",
    "    print(i)"
   ]
  },
  {
   "cell_type": "code",
   "execution_count": null,
   "id": "b538823e-5c29-45d3-a5fc-937e3e3e86a5",
   "metadata": {},
   "outputs": [],
   "source": []
  },
  {
   "cell_type": "code",
   "execution_count": 31,
   "id": "a9a8850e-920a-4c50-a6e8-55600a4c4fe0",
   "metadata": {},
   "outputs": [
    {
     "name": "stdout",
     "output_type": "stream",
     "text": [
      "2\n",
      "3\n",
      "5\n",
      "7\n",
      "11\n",
      "13\n",
      "17\n",
      "19\n",
      "23\n",
      "29\n",
      "31\n",
      "37\n",
      "41\n",
      "43\n",
      "47\n",
      "53\n",
      "59\n",
      "61\n",
      "67\n",
      "71\n"
     ]
    }
   ],
   "source": [
    "\n",
    "def primes():  \n",
    "    yield 2\n",
    "    primes_list = [2]\n",
    "    for i in range(3, 1000):\n",
    "        is_prime = True\n",
    "        for prime in primes_list:\n",
    "            if i % prime == 0:\n",
    "                is_prime = False\n",
    "                break\n",
    "        if is_prime:\n",
    "            primes_list.append(i)\n",
    "            yield i\n",
    "prime_gen = primes()\n",
    "for i in range(20):\n",
    "    print(next(prime_gen))\n"
   ]
  },
  {
   "cell_type": "code",
   "execution_count": null,
   "id": "1361a3c8-feba-4812-aa41-a91efd825b0d",
   "metadata": {},
   "outputs": [],
   "source": []
  },
  {
   "cell_type": "code",
   "execution_count": null,
   "id": "be1f5201-f937-44e7-8db7-88984e4957dd",
   "metadata": {},
   "outputs": [],
   "source": []
  },
  {
   "cell_type": "code",
   "execution_count": null,
   "id": "ef53c304-54ba-4ba5-acf4-b84f88670887",
   "metadata": {},
   "outputs": [],
   "source": []
  },
  {
   "cell_type": "code",
   "execution_count": null,
   "id": "e5949942-fea9-4db4-9461-98bd7d2d1758",
   "metadata": {},
   "outputs": [],
   "source": []
  },
  {
   "cell_type": "code",
   "execution_count": null,
   "id": "db2eac87-1ccd-469d-802e-c925a5956d06",
   "metadata": {},
   "outputs": [],
   "source": []
  },
  {
   "cell_type": "code",
   "execution_count": null,
   "id": "75c5a390-ca09-46b5-b9dd-1f78145a3a2b",
   "metadata": {},
   "outputs": [],
   "source": []
  },
  {
   "cell_type": "code",
   "execution_count": null,
   "id": "3b4dbfdb-b4f0-424e-901c-44b63d40bb0d",
   "metadata": {},
   "outputs": [],
   "source": []
  },
  {
   "cell_type": "code",
   "execution_count": null,
   "id": "d0b4bc7c-f45f-4365-9f95-a460759a1d5a",
   "metadata": {},
   "outputs": [],
   "source": []
  },
  {
   "cell_type": "code",
   "execution_count": null,
   "id": "8c39f25d-7d83-4e7a-85c6-119dda885239",
   "metadata": {},
   "outputs": [],
   "source": []
  },
  {
   "cell_type": "code",
   "execution_count": null,
   "id": "92d503d3-fe1f-463e-bebc-845994fceed7",
   "metadata": {},
   "outputs": [],
   "source": []
  },
  {
   "cell_type": "code",
   "execution_count": null,
   "id": "c3043ad9-9cf3-44d8-a70f-d7442b601c31",
   "metadata": {},
   "outputs": [],
   "source": []
  },
  {
   "cell_type": "code",
   "execution_count": null,
   "id": "34163a2f-c682-43c2-93ee-c84bbb3c8d39",
   "metadata": {},
   "outputs": [],
   "source": []
  },
  {
   "cell_type": "code",
   "execution_count": null,
   "id": "02779ba9-0681-4263-8684-98121c055b7f",
   "metadata": {},
   "outputs": [],
   "source": []
  },
  {
   "cell_type": "code",
   "execution_count": null,
   "id": "27952faa-1ddd-45c7-889e-882321b9b88d",
   "metadata": {},
   "outputs": [],
   "source": []
  },
  {
   "cell_type": "code",
   "execution_count": null,
   "id": "78014cdd-9370-4364-ab43-599ceababc48",
   "metadata": {},
   "outputs": [],
   "source": []
  },
  {
   "cell_type": "code",
   "execution_count": null,
   "id": "c72772aa-b816-48c2-8519-22838da79f80",
   "metadata": {},
   "outputs": [],
   "source": []
  },
  {
   "cell_type": "code",
   "execution_count": null,
   "id": "93e55083-2ede-4ea5-a0ca-5a97ffedda58",
   "metadata": {},
   "outputs": [],
   "source": []
  },
  {
   "cell_type": "code",
   "execution_count": null,
   "id": "3d38abad-e323-4cbf-bbfd-2fd0c09ae24c",
   "metadata": {},
   "outputs": [],
   "source": []
  },
  {
   "cell_type": "code",
   "execution_count": null,
   "id": "864d9c6f-b812-46c9-b0b0-73e8ed8b158b",
   "metadata": {},
   "outputs": [],
   "source": []
  }
 ],
 "metadata": {
  "kernelspec": {
   "display_name": "Python 3 (ipykernel)",
   "language": "python",
   "name": "python3"
  },
  "language_info": {
   "codemirror_mode": {
    "name": "ipython",
    "version": 3
   },
   "file_extension": ".py",
   "mimetype": "text/x-python",
   "name": "python",
   "nbconvert_exporter": "python",
   "pygments_lexer": "ipython3",
   "version": "3.10.8"
  }
 },
 "nbformat": 4,
 "nbformat_minor": 5
}
